{
 "cells": [
  {
   "cell_type": "code",
   "execution_count": 20,
   "metadata": {},
   "outputs": [],
   "source": [
    "# import all the necessary libraries\n",
    "import sys\n",
    "import matplotlib\n",
    "matplotlib.use('Agg')\n",
    "\n",
    "import pandas as pd\n",
    "import matplotlib.pyplot as plt\n",
    "from scipy import stats"
   ]
  },
  {
   "cell_type": "code",
   "execution_count": 21,
   "metadata": {},
   "outputs": [],
   "source": [
    "# Reading the data from csv\n",
    "cars_data = pd.read_csv(\"cars.csv\", header=0, sep=\",\")\n",
    "\n",
    "#Defining X and Y\n",
    "x = cars_data[\"Weight\"]\n",
    "y = cars_data[\"CO2\"]\n",
    "\n",
    "#Assigning slope intercept and all necessary parameters based on x and y\n",
    "slope, intercept, r, p, std_err = stats.linregress(x, y)\n",
    "\n",
    "# Function to define a new value based on the slope and intercept which define where on y axis the x values will be placed\n",
    "def myfunc(x):\n",
    "    return slope * x + intercept\n",
    "\n",
    "# Iterating all the x value through the function\n",
    "mymodel = list(map(myfunc, x))"
   ]
  },
  {
   "cell_type": "code",
   "execution_count": 22,
   "metadata": {},
   "outputs": [],
   "source": [
    "# Plot the graph\n",
    "plt.scatter(x, y)\n",
    "plt.plot(x, mymodel)\n",
    "plt.ylim(ymin=50, ymax=150)\n",
    "plt.xlim(xmin=500, xmax=2000)\n",
    "plt.title(\"Relation of car weight with CO2 Emision\")\n",
    "plt.xlabel(\"Weight\")\n",
    "plt.ylabel (\"CO2 Emission\")\n",
    "plt.savefig(\"ResultGraph.png\")"
   ]
  },
  {
   "cell_type": "code",
   "execution_count": null,
   "metadata": {},
   "outputs": [],
   "source": []
  }
 ],
 "metadata": {
  "kernelspec": {
   "display_name": "Python 3",
   "language": "python",
   "name": "python3"
  },
  "language_info": {
   "codemirror_mode": {
    "name": "ipython",
    "version": 3
   },
   "file_extension": ".py",
   "mimetype": "text/x-python",
   "name": "python",
   "nbconvert_exporter": "python",
   "pygments_lexer": "ipython3",
   "version": "3.8.3"
  }
 },
 "nbformat": 4,
 "nbformat_minor": 4
}
