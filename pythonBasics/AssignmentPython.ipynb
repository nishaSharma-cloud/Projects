{
 "cells": [
  {
   "cell_type": "code",
   "execution_count": 5,
   "metadata": {},
   "outputs": [
    {
     "name": "stdout",
     "output_type": "stream",
     "text": [
      "Please enter a number:13\n",
      "1*13= 13\n",
      "2*13= 26\n",
      "3*13= 39\n",
      "4*13= 52\n",
      "5*13= 65\n",
      "6*13= 78\n",
      "7*13= 91\n",
      "8*13= 104\n",
      "9*13= 117\n",
      "10*13= 130\n"
     ]
    }
   ],
   "source": [
    "\"\"\" This function takes a number as input and print the multiplication table of that number upto 10\"\"\"\n",
    "def funcTable():\n",
    "    num = int(input(\"Please enter a number:\"))\n",
    "\n",
    "    for i in range(1,11):\n",
    "        print(str(i)+\"*\"+str(num)+\"=\",i*num)\n",
    "\n",
    "funcTable()"
   ]
  },
  {
   "cell_type": "code",
   "execution_count": 12,
   "metadata": {},
   "outputs": [
    {
     "name": "stdout",
     "output_type": "stream",
     "text": [
      "Twin pair:1,3\n",
      "Twin pair:3,5\n",
      "Twin pair:5,7\n",
      "Twin pair:11,13\n",
      "Twin pair:17,19\n",
      "Twin pair:29,31\n",
      "Twin pair:41,43\n",
      "Twin pair:59,61\n",
      "Twin pair:71,73\n",
      "Twin pair:101,103\n",
      "Twin pair:107,109\n",
      "Twin pair:137,139\n",
      "Twin pair:149,151\n",
      "Twin pair:179,181\n",
      "Twin pair:191,193\n",
      "Twin pair:197,199\n",
      "Twin pair:227,229\n",
      "Twin pair:239,241\n",
      "Twin pair:269,271\n",
      "Twin pair:281,283\n",
      "Twin pair:311,313\n",
      "Twin pair:347,349\n",
      "Twin pair:419,421\n",
      "Twin pair:431,433\n",
      "Twin pair:461,463\n",
      "Twin pair:521,523\n",
      "Twin pair:569,571\n",
      "Twin pair:599,601\n",
      "Twin pair:617,619\n",
      "Twin pair:641,643\n",
      "Twin pair:659,661\n",
      "Twin pair:809,811\n",
      "Twin pair:821,823\n",
      "Twin pair:827,829\n",
      "Twin pair:857,859\n",
      "Twin pair:881,883\n"
     ]
    }
   ],
   "source": [
    "\"\"\" This Cell prints all the prime twin pairs between 1 and 1000\"\"\"\n",
    "def isPrime(number):\n",
    "    for num in range(2,number):\n",
    "        # if a number is divisible by any number between 2 and itself it won't be considered prime\n",
    "        if number % num == 0:\n",
    "            return False\n",
    "    return True\n",
    "\n",
    "\n",
    "for num1 in range(1,1000):\n",
    "    #twin prime number has a gap of 2 between them\n",
    "    num2 = num1+2\n",
    "    #if both the number are prime and they have a gap of 2 they are considered twin prime\n",
    "    if(isPrime(num1) and isPrime(num2)):\n",
    "        print(\"Twin pair:\"+ str(num1)+','+str(num2))"
   ]
  },
  {
   "cell_type": "code",
   "execution_count": 7,
   "metadata": {},
   "outputs": [
    {
     "name": "stdout",
     "output_type": "stream",
     "text": [
      "Please enter a number:56\n",
      "Prime Factors of 56 are  [2, 2, 2, 7]\n"
     ]
    }
   ],
   "source": [
    "\"\"\" This cell find out the prime factors of a given number\"\"\"\n",
    "import math\n",
    "def isPrimeFactorial(givenNumber):\n",
    "    primeFactors = []\n",
    "\n",
    "    while givenNumber % 2 ==0:\n",
    "        primeFactors.append(2)\n",
    "        givenNumber = givenNumber/2\n",
    "    \n",
    "    for i in range(3,int(math.sqrt(givenNumber)),2):\n",
    "        if givenNumber % i == 0:\n",
    "            primeFactors.append(i)\n",
    "            givenNumber = givenNumber/i\n",
    "    if givenNumber>2:\n",
    "        primeFactors.append(int(givenNumber))\n",
    "\n",
    "    return primeFactors\n",
    "    \n",
    "numb = int(input(\"Please enter a number:\"))\n",
    "result = isPrimeFactorial(numb)\n",
    "print(\"Prime Factors of \"+str(numb)+\" are \",result)"
   ]
  },
  {
   "cell_type": "code",
   "execution_count": 23,
   "metadata": {},
   "outputs": [
    {
     "name": "stdout",
     "output_type": "stream",
     "text": [
      "Permutation Result: 20.0\n",
      "Combination Result: 10.0\n"
     ]
    }
   ],
   "source": [
    "\"\"\" This cell finds out the permutation of a given number\"\"\"\n",
    "# This function calculates factorial of a number\n",
    "def factorial(factNumber):\n",
    "    fact = 1\n",
    "    for i in range(1,factNumber+1):\n",
    "        fact = fact*i\n",
    "    return fact\n",
    "\n",
    "# This function calculates permutation of a number which is p(n,r)=n!/(n-r)!\n",
    "def permutationFunction(n,r):        \n",
    "    return (factorial(n)/factorial(n-r))\n",
    "\n",
    "# This function calculates combination of a number which is c(n,r) = n!/((n-r)!*r!) = p(n,r)/r!\n",
    "def combinationFuction(n,r):\n",
    "    return (permutationFunction(n,r)/factorial(r))\n",
    "    \n",
    "permResult = permutationFunction(5,2)\n",
    "combResult = combinationFuction(5,2)\n",
    "print(\"Permutation Result:\",permResult)    \n",
    "print(\"Combination Result:\",combResult)"
   ]
  },
  {
   "cell_type": "code",
   "execution_count": 8,
   "metadata": {},
   "outputs": [
    {
     "name": "stdout",
     "output_type": "stream",
     "text": [
      "Binary number [1, 1, 0, 0]\n"
     ]
    }
   ],
   "source": [
    "\"\"\" This cell converts a decimal number to binary number\"\"\"\n",
    "modNumber = []\n",
    "def decimalToBinary(decNumber):\n",
    "    if decNumber >=1:\n",
    "        modNumber.append(decNumber%2)  # finding the remainder of the number\n",
    "        decimalToBinary(decNumber//2) # calling the same function with floor divided number\n",
    "    return modNumber\n",
    "\n",
    "binNumber = decimalToBinary(12)[::-1]  # reversing the result list to get the actually binary representation\n",
    "print(\"Binary number\", binNumber)"
   ]
  },
  {
   "cell_type": "code",
   "execution_count": 19,
   "metadata": {},
   "outputs": [
    {
     "name": "stdout",
     "output_type": "stream",
     "text": [
      "1 is an ArmStrong number\n",
      "153 is an ArmStrong number\n",
      "370 is an ArmStrong number\n",
      "371 is an ArmStrong number\n",
      "407 is an ArmStrong number\n"
     ]
    }
   ],
   "source": [
    "\"\"\" This cell calculates the sum of the cube of an integer then use it to check if a number is armstrong or not and\n",
    "eventually help in printing all the armstrong numbers in a given range\"\"\"\n",
    "def cubesum(intNumber):\n",
    "    cube = 0\n",
    "    for i in str(intNumber):\n",
    "        cube = cube + int(i)**3\n",
    "    return cube\n",
    "\n",
    "def isArmstrong(inputNumber):\n",
    "    if inputNumber == cubesum(inputNumber):\n",
    "        print(\"{} is an ArmStrong number\".format(inputNumber))\n",
    "#     else:\n",
    "#         print(\"{} is not an ArmStrong number\".format(inputNumber))\n",
    "\n",
    "def PrintArmstrong(upperRange):\n",
    "    for i in range(1,upperRange):\n",
    "        isArmstrong(i)\n",
    "            \n",
    "PrintArmstrong(1000)"
   ]
  },
  {
   "cell_type": "code",
   "execution_count": 24,
   "metadata": {},
   "outputs": [
    {
     "name": "stdout",
     "output_type": "stream",
     "text": [
      "24\n"
     ]
    }
   ],
   "source": [
    "\"\"\" This function takes a number as input and returns the product of those numbers\"\"\"\n",
    "def prodDigits(prodNumber):\n",
    "    product = 1\n",
    "    for i in str(prodNumber):\n",
    "        product = product * int(i)\n",
    "    return product\n",
    "    \n",
    "print(prodDigits(1234))"
   ]
  },
  {
   "cell_type": "code",
   "execution_count": 37,
   "metadata": {},
   "outputs": [
    {
     "name": "stdout",
     "output_type": "stream",
     "text": [
      "MDR: 2\n",
      "MPersistance 2\n"
     ]
    }
   ],
   "source": [
    "\"\"\" This function finds the multiplicative root of a given number n i.e. the digits in a number is multipled by itself till\n",
    "it is reduced to one digit\"\"\"\n",
    "\n",
    "def MDR(givenNumber):\n",
    "    newNumber = givenNumber\n",
    "    while(newNumber > 9):\n",
    "        newNumber = prodDigits(newNumber)\n",
    "    print(\"MDR:\",newNumber)\n",
    "\n",
    "MDR(341)\n",
    "\n",
    "def MPersistence(number):\n",
    "    newNumber = number\n",
    "    count = 0\n",
    "    while(newNumber > 9):\n",
    "        newNumber = prodDigits(newNumber)\n",
    "        count += 1\n",
    "    print(\"MPersistance\", count)\n",
    "\n",
    "MPersistence(341)"
   ]
  },
  {
   "cell_type": "code",
   "execution_count": 8,
   "metadata": {},
   "outputs": [
    {
     "name": "stdout",
     "output_type": "stream",
     "text": [
      "55\n"
     ]
    }
   ],
   "source": [
    "\"\"\" This cell the sum of proper divisors of a number\"\"\"\n",
    "\n",
    "def sumPdivisors(num):\n",
    "    numSum = 0\n",
    "    for i in range(1,num):\n",
    "        if num%i == 0:\n",
    "            #print(i)\n",
    "            numSum = numSum+i\n",
    "#     print(numSum)\n",
    "    return numSum\n",
    "\n",
    "print(sumPdivisors(36))"
   ]
  },
  {
   "cell_type": "code",
   "execution_count": 11,
   "metadata": {},
   "outputs": [
    {
     "name": "stdout",
     "output_type": "stream",
     "text": [
      "6 is Perfect\n",
      "28 is Perfect\n"
     ]
    }
   ],
   "source": [
    "\"\"\" This cell finds the perfect number of a given range. A number is perfect if the sum of proper divisors is euqal to number\"\"\"\n",
    "\n",
    "def findPerfect(numRange):\n",
    "    for i in range(1,numRange):\n",
    "        if i == sumPdivisors(i):\n",
    "            print(\"{} is Perfect\".format(i))\n",
    "\n",
    "findPerfect(29)"
   ]
  },
  {
   "cell_type": "code",
   "execution_count": 24,
   "metadata": {},
   "outputs": [
    {
     "name": "stdout",
     "output_type": "stream",
     "text": [
      "These numbers are Amicable pair 220 284\n"
     ]
    }
   ],
   "source": [
    "\"\"\" This cell returns the number pairs of amicable numbers. Two numbers are amicable is the sum of proper divisors of num1\n",
    "is equal to num2 and sum of proper divisor of num2 is equal to num1\"\"\"\n",
    "\n",
    "def checkAmicable(num1,num2):\n",
    "    if sumPdivisors(num1) == num2 and sumPdivisors(num2) == num1:\n",
    "        return True\n",
    "    else:\n",
    "        return False\n",
    "\n",
    "def findAmicable(amiRange):\n",
    "    start = 1;\n",
    "    while start != (amiRange):\n",
    "        for i in range(1,start):\n",
    "            if checkAmicable(start,i):\n",
    "                if start != i:\n",
    "                    print(\"These numbers are Amicable pair {} {}\".format(i,start))\n",
    "        start = start + 1\n",
    "\n",
    "findAmicable(300)"
   ]
  },
  {
   "cell_type": "code",
   "execution_count": 27,
   "metadata": {},
   "outputs": [
    {
     "name": "stdout",
     "output_type": "stream",
     "text": [
      "1\n",
      "5\n",
      "7\n",
      "31\n",
      "59\n"
     ]
    }
   ],
   "source": [
    "\"\"\" This cell filters odd number from a list using filter function\"\"\"\n",
    "\n",
    "def checkOdd(numb1):\n",
    "    if numb1%2 != 0:\n",
    "        return True\n",
    "    else:\n",
    "        return False\n",
    "\n",
    "def filterNum(numbList):\n",
    "    filteredList = filter(checkOdd,numbList)\n",
    "    for i in filteredList:\n",
    "        print(i)\n",
    "\n",
    "filterNum([1,2,8,6,5,7,31,59])"
   ]
  },
  {
   "cell_type": "code",
   "execution_count": 29,
   "metadata": {},
   "outputs": [
    {
     "name": "stdout",
     "output_type": "stream",
     "text": [
      "1\n",
      "8\n",
      "27\n",
      "64\n",
      "343\n",
      "512\n"
     ]
    }
   ],
   "source": [
    "\"\"\" This cell use map() function to map an element and the cube of that element\"\"\"\n",
    "def cubeNumber(numb):\n",
    "    return numb**3\n",
    "\n",
    "def mapList(givenList):\n",
    "    mappedList = map(cubeNumber,givenList)\n",
    "    return mappedList\n",
    "\n",
    "for i in mapList([1,2,3,4,7,8]):\n",
    "    print(i)"
   ]
  },
  {
   "cell_type": "code",
   "execution_count": 31,
   "metadata": {},
   "outputs": [
    {
     "name": "stdout",
     "output_type": "stream",
     "text": [
      "8\n",
      "64\n",
      "216\n",
      "512\n"
     ]
    }
   ],
   "source": [
    "\"\"\" This cell filters even number of a list and map each element to get its cube\"\"\"\n",
    "def filterMapList(listNumb):\n",
    "    filteredList = [i for i in listNumb if i%2 == 0]\n",
    "    mappedList = mapList(filteredList)\n",
    "    return mappedList\n",
    "\n",
    "for i in filterMapList([1,2,3,4,5,6,7,8,9]):\n",
    "    print(i)"
   ]
  }
 ],
 "metadata": {
  "kernelspec": {
   "display_name": "Python 3",
   "language": "python",
   "name": "python3"
  },
  "language_info": {
   "codemirror_mode": {
    "name": "ipython",
    "version": 3
   },
   "file_extension": ".py",
   "mimetype": "text/x-python",
   "name": "python",
   "nbconvert_exporter": "python",
   "pygments_lexer": "ipython3",
   "version": "3.8.3"
  }
 },
 "nbformat": 4,
 "nbformat_minor": 4
}
