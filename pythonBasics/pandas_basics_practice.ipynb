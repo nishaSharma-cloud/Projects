{
 "cells": [
  {
   "cell_type": "markdown",
   "metadata": {
    "colab_type": "text",
    "id": "KaY8jRX3hcu9"
   },
   "source": [
    "**Creating a DataFrame birds from this dictionary data which has the index labels.**"
   ]
  },
  {
   "cell_type": "code",
   "execution_count": 93,
   "metadata": {
    "colab": {},
    "colab_type": "code",
    "id": "AWrM74tnhcu_"
   },
   "outputs": [
    {
     "name": "stdout",
     "output_type": "stream",
     "text": [
      "        birds  age  visits priority\n",
      "a      Cranes  3.5       2      yes\n",
      "b      Cranes  4.0       4      yes\n",
      "c     plovers  1.5       3       no\n",
      "d  spoonbills  NaN       4      yes\n",
      "e  spoonbills  6.0       3       no\n",
      "f      Cranes  3.0       4       no\n",
      "g     plovers  5.5       2       no\n",
      "h      Cranes  NaN       2      yes\n",
      "i  spoonbills  8.0       3       no\n",
      "j  spoonbills  4.0       2       no\n"
     ]
    }
   ],
   "source": [
    "import pandas as pd\n",
    "import numpy as np\n",
    "data = {'birds': ['Cranes', 'Cranes', 'plovers', 'spoonbills', 'spoonbills', 'Cranes', 'plovers', 'Cranes', 'spoonbills', 'spoonbills'], 'age': [3.5, 4, 1.5, np.nan, 6, 3, 5.5, np.nan, 8, 4], 'visits': [2, 4, 3, 4, 3, 4, 2, 2, 3, 2], 'priority': ['yes', 'yes', 'no', 'yes', 'no', 'no', 'no', 'yes', 'no', 'no']}\n",
    "\n",
    "labels = ['a', 'b', 'c', 'd', 'e', 'f', 'g', 'h', 'i', 'j']\n",
    "birdDf = pd.DataFrame(data, index= labels)\n",
    "print(birdDf)"
   ]
  },
  {
   "cell_type": "markdown",
   "metadata": {
    "colab_type": "text",
    "id": "31bQ4H55hcvG"
   },
   "source": [
    "**A summary of the basic information about birds DataFrame and its data.**"
   ]
  },
  {
   "cell_type": "code",
   "execution_count": 94,
   "metadata": {
    "colab": {},
    "colab_type": "code",
    "id": "PT7e5BiThcvI"
   },
   "outputs": [
    {
     "name": "stdout",
     "output_type": "stream",
     "text": [
      "(10, 4)\n",
      "Index(['birds', 'age', 'visits', 'priority'], dtype='object')\n",
      "Index(['a', 'b', 'c', 'd', 'e', 'f', 'g', 'h', 'i', 'j'], dtype='object')\n"
     ]
    }
   ],
   "source": [
    "print(birdDf.shape)\n",
    "print(birdDf.columns)\n",
    "print(birdDf.index)"
   ]
  },
  {
   "cell_type": "markdown",
   "metadata": {
    "colab_type": "text",
    "id": "ppsyynzjhcvN"
   },
   "source": [
    "**Printing the first 2 rows of the birds dataframe**"
   ]
  },
  {
   "cell_type": "code",
   "execution_count": 95,
   "metadata": {
    "colab": {},
    "colab_type": "code",
    "id": "mJtG2ES9hcvQ"
   },
   "outputs": [
    {
     "name": "stdout",
     "output_type": "stream",
     "text": [
      "    birds  age  visits priority\n",
      "a  Cranes  3.5       2      yes\n",
      "b  Cranes  4.0       4      yes\n"
     ]
    }
   ],
   "source": [
    "print(birdDf.head(2))"
   ]
  },
  {
   "cell_type": "markdown",
   "metadata": {
    "colab_type": "text",
    "id": "331CiAQDhcvW"
   },
   "source": [
    "**Printing all the rows with only 'birds' and 'age' columns from the dataframe**"
   ]
  },
  {
   "cell_type": "code",
   "execution_count": 15,
   "metadata": {
    "colab": {},
    "colab_type": "code",
    "id": "eJm1icJhhcvY"
   },
   "outputs": [
    {
     "name": "stdout",
     "output_type": "stream",
     "text": [
      "        birds  age\n",
      "a      Cranes  3.5\n",
      "b      Cranes  4.0\n",
      "c     plovers  1.5\n",
      "d  spoonbills  NaN\n",
      "e  spoonbills  6.0\n",
      "f      Cranes  3.0\n",
      "g     plovers  5.5\n",
      "h      Cranes  NaN\n",
      "i  spoonbills  8.0\n",
      "j  spoonbills  4.0\n"
     ]
    }
   ],
   "source": [
    "print(birdDf[['birds','age']])"
   ]
  },
  {
   "cell_type": "markdown",
   "metadata": {
    "colab_type": "text",
    "id": "33v_rzNyhcvf"
   },
   "source": [
    "**Selecting [2, 3, 7] rows and in columns ['birds', 'age', 'visits']**"
   ]
  },
  {
   "cell_type": "code",
   "execution_count": 28,
   "metadata": {
    "colab": {},
    "colab_type": "code",
    "id": "ia5weqCOhcvh"
   },
   "outputs": [
    {
     "name": "stdout",
     "output_type": "stream",
     "text": [
      "        birds  age  visits\n",
      "c     plovers  1.5       3\n",
      "d  spoonbills  NaN       4\n",
      "h      Cranes  NaN       2\n"
     ]
    }
   ],
   "source": [
    "modifiedDf = birdDf[['birds','age','visits']]\n",
    "print(modifiedDf.iloc[[2,3,7]])"
   ]
  },
  {
   "cell_type": "markdown",
   "metadata": {
    "colab_type": "text",
    "id": "uulxo5y-hcvo"
   },
   "source": [
    "**Selecting the rows where the number of visits is less than 4**"
   ]
  },
  {
   "cell_type": "code",
   "execution_count": 29,
   "metadata": {
    "colab": {},
    "colab_type": "code",
    "id": "6Khj7LfZhcvq"
   },
   "outputs": [
    {
     "name": "stdout",
     "output_type": "stream",
     "text": [
      "        birds  age  visits priority\n",
      "a      Cranes  3.5       2      yes\n",
      "c     plovers  1.5       3       no\n",
      "e  spoonbills  6.0       3       no\n",
      "g     plovers  5.5       2       no\n",
      "h      Cranes  NaN       2      yes\n",
      "i  spoonbills  8.0       3       no\n",
      "j  spoonbills  4.0       2       no\n"
     ]
    }
   ],
   "source": [
    "print(birdDf.loc[birdDf['visits']<4])"
   ]
  },
  {
   "cell_type": "markdown",
   "metadata": {
    "colab_type": "text",
    "id": "sB8icEBVhcvy"
   },
   "source": [
    "**Selecting the rows with columns ['birds', 'visits'] where the age is missing i.e NaN**"
   ]
  },
  {
   "cell_type": "code",
   "execution_count": 54,
   "metadata": {
    "colab": {},
    "colab_type": "code",
    "id": "dHoZ2z2ghcv2"
   },
   "outputs": [
    {
     "name": "stdout",
     "output_type": "stream",
     "text": [
      "        birds  visits\n",
      "d  spoonbills       4\n",
      "h      Cranes       2\n"
     ]
    }
   ],
   "source": [
    "newDf = birdDf.loc[birdDf['age'].isna()]\n",
    "print(newDf[['birds','visits']])"
   ]
  },
  {
   "cell_type": "markdown",
   "metadata": {
    "colab_type": "text",
    "id": "sgiIkh1Ghcv-"
   },
   "source": [
    "**Selecting the rows where the birds is a Cranes and the age is less than 4**"
   ]
  },
  {
   "cell_type": "code",
   "execution_count": 55,
   "metadata": {
    "colab": {},
    "colab_type": "code",
    "id": "4of7A8gehcwC"
   },
   "outputs": [
    {
     "name": "stdout",
     "output_type": "stream",
     "text": [
      "    birds  age  visits priority\n",
      "a  Cranes  3.5       2      yes\n",
      "f  Cranes  3.0       4       no\n"
     ]
    }
   ],
   "source": [
    "changedDf = birdDf.loc[birdDf['age']<4]\n",
    "print(changedDf.loc[changedDf['birds']=='Cranes'])"
   ]
  },
  {
   "cell_type": "markdown",
   "metadata": {
    "colab_type": "text",
    "id": "IZrFrd1AhcwH"
   },
   "source": [
    "**Selecting the rows the age is between 2 and 4(inclusive)**"
   ]
  },
  {
   "cell_type": "code",
   "execution_count": 56,
   "metadata": {
    "colab": {},
    "colab_type": "code",
    "id": "Ij6co9oJhcwT"
   },
   "outputs": [
    {
     "name": "stdout",
     "output_type": "stream",
     "text": [
      "        birds  age  visits priority\n",
      "a      Cranes  3.5       2      yes\n",
      "b      Cranes  4.0       4      yes\n",
      "f      Cranes  3.0       4       no\n",
      "j  spoonbills  4.0       2       no\n"
     ]
    }
   ],
   "source": [
    "print(birdDf.loc[(birdDf['age']>=2) & (birdDf['age']<=4)])"
   ]
  },
  {
   "cell_type": "markdown",
   "metadata": {
    "colab_type": "text",
    "id": "KvV1eyyehcwX"
   },
   "source": [
    "**Finding the total number of visits of the bird Cranes**"
   ]
  },
  {
   "cell_type": "code",
   "execution_count": 58,
   "metadata": {
    "colab": {},
    "colab_type": "code",
    "id": "y5NyL569hcwY"
   },
   "outputs": [
    {
     "name": "stdout",
     "output_type": "stream",
     "text": [
      "12\n"
     ]
    }
   ],
   "source": [
    "cranesBird = birdDf.loc[birdDf['birds']=='Cranes']\n",
    "print(cranesBird['visits'].sum())"
   ]
  },
  {
   "cell_type": "markdown",
   "metadata": {
    "colab_type": "text",
    "id": "S-1B7oDehcwf"
   },
   "source": [
    "**Calculating the mean age for each different birds in dataframe.**"
   ]
  },
  {
   "cell_type": "code",
   "execution_count": 63,
   "metadata": {
    "colab": {},
    "colab_type": "code",
    "id": "ljKjf7nyhcwg"
   },
   "outputs": [
    {
     "name": "stdout",
     "output_type": "stream",
     "text": [
      "            age  visits\n",
      "birds                  \n",
      "Cranes      3.5     3.0\n",
      "plovers     3.5     2.5\n",
      "spoonbills  6.0     3.0\n"
     ]
    }
   ],
   "source": [
    "print(birdDf.groupby('birds').mean())"
   ]
  },
  {
   "cell_type": "markdown",
   "metadata": {
    "colab_type": "text",
    "id": "B5HIznnMhcwl"
   },
   "source": [
    "**Appending a new row 'k' to dataframe with random values for each column. Then deleting that row to return the original DataFrame.**"
   ]
  },
  {
   "cell_type": "code",
   "execution_count": 78,
   "metadata": {
    "colab": {},
    "colab_type": "code",
    "id": "GDDd9mXEhcwm"
   },
   "outputs": [
    {
     "name": "stdout",
     "output_type": "stream",
     "text": [
      "new df         birds  age visits priority\n",
      "a      Cranes  3.5      2      yes\n",
      "b      Cranes    4      4      yes\n",
      "c     plovers  1.5      3       no\n",
      "d  spoonbills  NaN      4      yes\n",
      "e  spoonbills    6      3       no\n",
      "f      Cranes    3      4       no\n",
      "g     plovers  5.5      2       no\n",
      "h      Cranes  NaN      2      yes\n",
      "i  spoonbills    8      3       no\n",
      "j  spoonbills    4      2       no\n",
      "k      Parrot    5      2       no\n",
      "old df         birds  age visits priority\n",
      "a      Cranes  3.5      2      yes\n",
      "b      Cranes    4      4      yes\n",
      "c     plovers  1.5      3       no\n",
      "d  spoonbills  NaN      4      yes\n",
      "e  spoonbills    6      3       no\n",
      "f      Cranes    3      4       no\n",
      "g     plovers  5.5      2       no\n",
      "h      Cranes  NaN      2      yes\n",
      "i  spoonbills    8      3       no\n",
      "j  spoonbills    4      2       no\n"
     ]
    }
   ],
   "source": [
    "birdDf.loc['k'] = ['Parrot', 5.0, 2.0, 'no']\n",
    "print('new df', birdDf)\n",
    "birdDf = birdDf.drop('k')\n",
    "print('old df',birdDf)"
   ]
  },
  {
   "cell_type": "markdown",
   "metadata": {
    "colab_type": "text",
    "id": "_cLx6xLahcwq"
   },
   "source": [
    "**Finding the number of each type of birds in dataframe (Counts)**"
   ]
  },
  {
   "cell_type": "code",
   "execution_count": 87,
   "metadata": {
    "colab": {},
    "colab_type": "code",
    "id": "aTHV8JJMhcws"
   },
   "outputs": [
    {
     "name": "stdout",
     "output_type": "stream",
     "text": [
      "            age  visits  priority\n",
      "birds                            \n",
      "Cranes        3       4         4\n",
      "plovers       2       2         2\n",
      "spoonbills    3       4         4\n"
     ]
    }
   ],
   "source": [
    "print(birdDf.groupby('birds').count())"
   ]
  },
  {
   "cell_type": "markdown",
   "metadata": {
    "colab_type": "text",
    "id": "-SJ6OYuYhcww"
   },
   "source": [
    "**Sorting dataframe (birds) first by the values in the 'age' in decending order, then by the value in the 'visits' column in ascending order.**"
   ]
  },
  {
   "cell_type": "code",
   "execution_count": 90,
   "metadata": {
    "colab": {},
    "colab_type": "code",
    "id": "1oeqEqBjhcwy"
   },
   "outputs": [
    {
     "name": "stdout",
     "output_type": "stream",
     "text": [
      "age descending\n",
      "         birds  age visits priority\n",
      "i  spoonbills    8      3       no\n",
      "e  spoonbills    6      3       no\n",
      "g     plovers  5.5      2       no\n",
      "j  spoonbills    4      2       no\n",
      "b      Cranes    4      4      yes\n",
      "a      Cranes  3.5      2      yes\n",
      "f      Cranes    3      4       no\n",
      "c     plovers  1.5      3       no\n",
      "h      Cranes  NaN      2      yes\n",
      "d  spoonbills  NaN      4      yes\n",
      "visit ascending\n",
      "         birds  age visits priority\n",
      "g     plovers  5.5      2       no\n",
      "j  spoonbills    4      2       no\n",
      "a      Cranes  3.5      2      yes\n",
      "h      Cranes  NaN      2      yes\n",
      "i  spoonbills    8      3       no\n",
      "e  spoonbills    6      3       no\n",
      "c     plovers  1.5      3       no\n",
      "b      Cranes    4      4      yes\n",
      "f      Cranes    3      4       no\n",
      "d  spoonbills  NaN      4      yes\n"
     ]
    }
   ],
   "source": [
    "birdDf.sort_values('age',ascending=False,inplace=True)\n",
    "print('age descending\\n',birdDf)\n",
    "birdDf.sort_values('visits',ascending=True,inplace=True)\n",
    "print('visit ascending\\n',birdDf)"
   ]
  },
  {
   "cell_type": "markdown",
   "metadata": {
    "colab_type": "text",
    "id": "JaKj7ZQUhcw7"
   },
   "source": [
    "**Replacing the priority column values with'yes' should be 1 and 'no' should be 0**"
   ]
  },
  {
   "cell_type": "code",
   "execution_count": 91,
   "metadata": {
    "colab": {},
    "colab_type": "code",
    "id": "AJAPYiIHhcw9"
   },
   "outputs": [
    {
     "name": "stdout",
     "output_type": "stream",
     "text": [
      "        birds  age visits  priority\n",
      "g     plovers  5.5      2         0\n",
      "j  spoonbills    4      2         0\n",
      "a      Cranes  3.5      2         1\n",
      "h      Cranes  NaN      2         1\n",
      "i  spoonbills    8      3         0\n",
      "e  spoonbills    6      3         0\n",
      "c     plovers  1.5      3         0\n",
      "b      Cranes    4      4         1\n",
      "f      Cranes    3      4         0\n",
      "d  spoonbills  NaN      4         1\n"
     ]
    }
   ],
   "source": [
    "birdDf['priority'] = birdDf['priority'].replace('yes',1)\n",
    "birdDf['priority'] = birdDf['priority'].replace('no',0)\n",
    "print(birdDf)"
   ]
  },
  {
   "cell_type": "markdown",
   "metadata": {
    "colab_type": "text",
    "id": "E2EFmujbhcxA"
   },
   "source": [
    "**In the 'birds' column, changing the 'Cranes' entries to 'trumpeters'.**"
   ]
  },
  {
   "cell_type": "code",
   "execution_count": 92,
   "metadata": {
    "colab": {},
    "colab_type": "code",
    "id": "Bi29Cc6lhcxC"
   },
   "outputs": [
    {
     "name": "stdout",
     "output_type": "stream",
     "text": [
      "        birds  age visits  priority\n",
      "g     plovers  5.5      2         0\n",
      "j  spoonbills    4      2         0\n",
      "a  trumpeters  3.5      2         1\n",
      "h  trumpeters  NaN      2         1\n",
      "i  spoonbills    8      3         0\n",
      "e  spoonbills    6      3         0\n",
      "c     plovers  1.5      3         0\n",
      "b  trumpeters    4      4         1\n",
      "f  trumpeters    3      4         0\n",
      "d  spoonbills  NaN      4         1\n"
     ]
    }
   ],
   "source": [
    "birdDf['birds'] = birdDf['birds'].replace('Cranes','trumpeters')\n",
    "print(birdDf)"
   ]
  }
 ],
 "metadata": {
  "colab": {
   "name": "pandas_basics_practice.ipynb",
   "provenance": [],
   "version": "0.3.2"
  },
  "kernelspec": {
   "display_name": "Python 3",
   "language": "python",
   "name": "python3"
  },
  "language_info": {
   "codemirror_mode": {
    "name": "ipython",
    "version": 3
   },
   "file_extension": ".py",
   "mimetype": "text/x-python",
   "name": "python",
   "nbconvert_exporter": "python",
   "pygments_lexer": "ipython3",
   "version": "3.8.3"
  }
 },
 "nbformat": 4,
 "nbformat_minor": 1
}
