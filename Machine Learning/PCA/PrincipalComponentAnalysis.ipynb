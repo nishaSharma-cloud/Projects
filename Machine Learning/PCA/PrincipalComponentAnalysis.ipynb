{
 "cells": [
  {
   "cell_type": "code",
   "execution_count": 1,
   "metadata": {},
   "outputs": [],
   "source": [
    "# Importing necessary libraries\n",
    "import numpy as np\n",
    "import matplotlib.pyplot as plt"
   ]
  },
  {
   "cell_type": "code",
   "execution_count": 2,
   "metadata": {},
   "outputs": [],
   "source": [
    "# Feature values\n",
    "x1 = np.array([1.1,2.2,2.5,4,5.2,6.1]) # first feature\n",
    "x2 = np.array([1.4,2.1,2.9,5,5.1,6.7]) # second feature\n",
    "assert len(x1) == len(x2)"
   ]
  },
  {
   "cell_type": "code",
   "execution_count": 3,
   "metadata": {},
   "outputs": [
    {
     "name": "stdout",
     "output_type": "stream",
     "text": [
      "[[1.1 1.4]\n",
      " [2.2 2.1]\n",
      " [2.5 2.9]\n",
      " [4.  5. ]\n",
      " [5.2 5.1]\n",
      " [6.1 6.7]]\n"
     ]
    }
   ],
   "source": [
    "# Combining features to data matrix\n",
    "mat = np.array([x1, x2]).transpose()\n",
    "print(mat)"
   ]
  },
  {
   "cell_type": "code",
   "execution_count": 4,
   "metadata": {},
   "outputs": [
    {
     "data": {
      "image/png": "[encoded data removed]",
      "text/plain": [
       "<Figure size 432x288 with 1 Axes>"
      ]
     },
     "metadata": {
      "needs_background": "light"
     },
     "output_type": "display_data"
    }
   ],
   "source": [
    "# Ploting the data\n",
    "plt.scatter(mat[:,0], mat[:,1])\n",
    "plt.show()"
   ]
  },
  {
   "cell_type": "code",
   "execution_count": 19,
   "metadata": {
    "scrolled": true
   },
   "outputs": [
    {
     "name": "stdout",
     "output_type": "stream",
     "text": [
      "[[-1.38195552 -1.31932673]\n",
      " [-0.75292749 -0.9449232 ]\n",
      " [-0.58137439 -0.51703345]\n",
      " [ 0.2763911   0.60617714]\n",
      " [ 0.9626035   0.65966336]\n",
      " [ 1.4772628   1.51544286]]\n"
     ]
    }
   ],
   "source": [
    "# Standardizing the features\n",
    "mean1 = np.mean(mat[:,0])\n",
    "std1 = np.std(mat[:,0])\n",
    "# print(mean1)\n",
    "mean2 = np.mean(mat[:,1])\n",
    "std2 = np.std(mat[:,1])\n",
    "# print(mean2)\n",
    "z_mat = np.zeros(mat.shape)\n",
    "# print(z_mat)\n",
    "z_mat[:,0] = (mat[:,0] - mean1) / std1\n",
    "z_mat[:,1] = (mat[:,1] - mean2) / std2\n",
    "print(z_mat)"
   ]
  },
  {
   "cell_type": "code",
   "execution_count": 6,
   "metadata": {},
   "outputs": [
    {
     "data": {
      "image/png": "[encoded data removed]",
      "text/plain": [
       "<Figure size 432x288 with 1 Axes>"
      ]
     },
     "metadata": {
      "needs_background": "light"
     },
     "output_type": "display_data"
    }
   ],
   "source": [
    "# Plotting the standardized data\n",
    "plt.scatter(z_mat[:,0], z_mat[:,1])\n",
    "plt.show()"
   ]
  },
  {
   "cell_type": "code",
   "execution_count": 7,
   "metadata": {},
   "outputs": [
    {
     "name": "stdout",
     "output_type": "stream",
     "text": [
      "[[1.2        1.17530862]\n",
      " [1.17530862 1.2       ]]\n"
     ]
    }
   ],
   "source": [
    "# Computing the covariance matrix\n",
    "covariance_mat = np.cov(z_mat.transpose())\n",
    "print(covariance_mat)"
   ]
  },
  {
   "cell_type": "code",
   "execution_count": 8,
   "metadata": {},
   "outputs": [
    {
     "name": "stdout",
     "output_type": "stream",
     "text": [
      "Eigenvectors: \n",
      " [[ 0.70710678 -0.70710678]\n",
      " [ 0.70710678  0.70710678]] \n",
      "\n",
      "Eigenvalues: \n",
      " [2.37530862 0.02469138] \n",
      "\n"
     ]
    }
   ],
   "source": [
    "# Computing the eigendecomposition\n",
    "eigen_values, eigen_vectors = np.linalg.eig(covariance_mat)\n",
    "print(\"Eigenvectors: \\n\", eigen_vectors,\"\\n\")\n",
    "print(\"Eigenvalues: \\n\", eigen_values, \"\\n\")"
   ]
  },
  {
   "cell_type": "code",
   "execution_count": 9,
   "metadata": {},
   "outputs": [
    {
     "data": {
      "image/png": "[encoded data removed]",
      "text/plain": [
       "<Figure size 432x288 with 1 Axes>"
      ]
     },
     "metadata": {
      "needs_background": "light"
     },
     "output_type": "display_data"
    }
   ],
   "source": [
    "# Plotting of standarized data and eigenvectors\n",
    "plt.scatter(z_mat[:,0], z_mat[:,1])\n",
    "plt.arrow(0, 0, eigen_vectors[0,0], eigen_vectors[1,0], color='r',\n",
    "          head_width=0.2, head_length=0.2)\n",
    "plt.arrow(0, 0, eigen_vectors[0,1], eigen_vectors[1,1], color='g',\n",
    "          head_width=0.2, head_length=0.2)\n",
    "plt.show()"
   ]
  },
  {
   "cell_type": "markdown",
   "metadata": {},
   "source": [
    "## Application of PCA"
   ]
  },
  {
   "cell_type": "code",
   "execution_count": 10,
   "metadata": {},
   "outputs": [
    {
     "name": "stdout",
     "output_type": "stream",
     "text": [
      "Variance percentage : [0.9897119270282164, 0.010288072971783486]\n",
      "Eigen Pairs are:  [(2.3753086248677198, array([0.70710678, 0.70710678])), (0.02469137513228037, array([-0.70710678,  0.70710678]))]\n",
      "Feature Vector: [0.70710678 0.70710678]\n",
      "Transformed DataSet: [-1.910095   -1.20056174 -0.77669163  0.62406999  1.1471159   2.11616247]\n"
     ]
    }
   ],
   "source": [
    "# Calculating Variance\n",
    "variance_percentage = [(i/sum(eigen_values)) for i in sorted(eigen_values, reverse=True)]\n",
    "print(\"Variance percentage :\",variance_percentage)\n",
    "\n",
    "# Constructing matrix using the one eigenvectors that correspond to the top one eigenvalues (largest), \n",
    "# to capture about 98.9% of the variance in this dataset\n",
    "\n",
    "eigen_pairs = [(np.abs(eigen_values[i]), eigen_vectors[:, i]) for i in range(len(eigen_values))]\n",
    "\n",
    "# Sorting the Eigen pairs in descending order\n",
    "eigen_pairs.sort(key=lambda k: k[0], reverse=True)\n",
    "print(\"Eigen Pairs are: \",eigen_pairs)\n",
    "\n",
    "#Eigen vector of only top eigen value\n",
    "featureVector = np.hstack((eigen_pairs[0][1][:, np.newaxis]))\n",
    "print(\"Feature Vector:\",featureVector)\n",
    "\n",
    "# Transforming the data set\n",
    "pcaDataset = z_mat.dot(featureVector)\n",
    "print(\"Transformed DataSet:\",pcaDataset)"
   ]
  },
  {
   "cell_type": "code",
   "execution_count": 11,
   "metadata": {},
   "outputs": [
    {
     "data": {
      "image/png": "[encoded data removed]",
      "text/plain": [
       "<Figure size 432x288 with 1 Axes>"
      ]
     },
     "metadata": {
      "needs_background": "light"
     },
     "output_type": "display_data"
    }
   ],
   "source": [
    "# Plotting the PC1 data\n",
    "plt.scatter(pcaDataset,np.zeros(pcaDataset.shape))\n",
    "plt.show()"
   ]
  },
  {
   "cell_type": "markdown",
   "metadata": {},
   "source": [
    "## Reconstructing the data back from Principal components"
   ]
  },
  {
   "cell_type": "code",
   "execution_count": 20,
   "metadata": {},
   "outputs": [
    {
     "name": "stdout",
     "output_type": "stream",
     "text": [
      "Final reconstructed data: [[1.15476042 1.34145333]\n",
      " [2.03212571 2.27948147]\n",
      " [2.55625746 2.83985278]\n",
      " [4.28835332 4.69170933]\n",
      " [4.93511979 5.38319458]\n",
      " [6.1333833  6.66430851]]\n"
     ]
    }
   ],
   "source": [
    "#Reconstrcucting data to its original dimension\n",
    "ReconstructedData = np.dot(pcaDataset.reshape(6,1),featureVector.transpose().reshape(1,2))\n",
    "# print(ReconstructedData)\n",
    "\n",
    "#De normalising the data\n",
    "ReconstructedData[:,0] = (ReconstructedData[:,0]*std1)+mean1\n",
    "ReconstructedData[:,1] = (ReconstructedData[:,1]*std2)+mean2\n",
    "print(\"Final reconstructed data:\",ReconstructedData)"
   ]
  },
  {
   "cell_type": "markdown",
   "metadata": {},
   "source": [
    "## Plotting the final data"
   ]
  },
  {
   "cell_type": "code",
   "execution_count": 14,
   "metadata": {},
   "outputs": [
    {
     "data": {
      "image/png": "[encoded data removed]",
      "text/plain": [
       "<Figure size 432x288 with 1 Axes>"
      ]
     },
     "metadata": {
      "needs_background": "light"
     },
     "output_type": "display_data"
    }
   ],
   "source": [
    "plt.scatter(mat[:,0],mat[:,1],color = 'red',marker='.',label=\"Original Data\")\n",
    "plt.scatter(ReconstructedData[:,0],ReconstructedData[:,1],color='green',marker='+',label=\"Reconstructed Data\")\n",
    "plt.plot(mat[:,0],mat[:,1],color='pink')\n",
    "plt.plot(ReconstructedData[:,0],ReconstructedData[:,1],color='yellow')\n",
    "plt.legend()\n",
    "plt.show()"
   ]
  },
  {
   "cell_type": "markdown",
   "metadata": {},
   "source": [
    "## Computing error of PCA"
   ]
  },
  {
   "cell_type": "code",
   "execution_count": 41,
   "metadata": {},
   "outputs": [
    {
     "name": "stdout",
     "output_type": "stream",
     "text": [
      "RMSE 0.17737389522509553\n",
      "RMSE 0.18963789345085647\n",
      "Dimension 0 Error: 0.4344755369913696\n",
      "Dimension 1 Error: 0.46451607485088214\n",
      "Overall Error: 0.8989916118422517\n"
     ]
    }
   ],
   "source": [
    "# Calculating Error introduced by PCA using RMSE\n",
    "RMSE1 = np.sqrt(np.sum(np.square(mat[:,0]-ReconstructedData[:,0]))/6)\n",
    "print(\"RMSE\",RMSE1)\n",
    "\n",
    "RMSE2 = np.sqrt(np.sum(np.square(mat[:,1]-ReconstructedData[:,1]))/6)\n",
    "print(\"RMSE\",RMSE2)\n",
    "\n",
    "# Calculating Euclidean distance between Original Data and Reconstructed data\n",
    "distanceAxis0 = np.sqrt(np.sum(np.square(mat[:,0]-ReconstructedData[:,0])))\n",
    "distanceAxis1 = np.sqrt(np.sum(np.square(mat[:,1]-ReconstructedData[:,1])))\n",
    "\n",
    "#Summing up the distances for each axis\n",
    "print(\"Dimension 0 Error:\",distanceAxis0)\n",
    "print(\"Dimension 1 Error:\",distanceAxis1)\n",
    "\n",
    "# Sum of both axis\n",
    "sumOfErrors = distanceAxis1+ distanceAxis0\n",
    "print(\"Overall Error:\",sumOfErrors)\n",
    "d = np.sqrt(np.sum((w - w_in)**2))"
   ]
  }
 ],
 "metadata": {
  "kernelspec": {
   "display_name": "Python 3",
   "language": "python",
   "name": "python3"
  },
  "language_info": {
   "codemirror_mode": {
    "name": "ipython",
    "version": 3
   },
   "file_extension": ".py",
   "mimetype": "text/x-python",
   "name": "python",
   "nbconvert_exporter": "python",
   "pygments_lexer": "ipython3",
   "version": "3.8.3"
  }
 },
 "nbformat": 4,
 "nbformat_minor": 4
}
