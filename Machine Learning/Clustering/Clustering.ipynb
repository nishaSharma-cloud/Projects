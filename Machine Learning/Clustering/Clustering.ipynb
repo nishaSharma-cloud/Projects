{
 "cells": [
  {
   "cell_type": "markdown",
   "metadata": {},
   "source": [
    "# Clustering"
   ]
  },
  {
   "cell_type": "code",
   "execution_count": 1,
   "metadata": {},
   "outputs": [],
   "source": [
    "# Load modules\n",
    "import csv\n",
    "import numpy as np\n",
    "import pandas as pd\n",
    "import matplotlib.pyplot as plt"
   ]
  },
  {
   "cell_type": "markdown",
   "metadata": {},
   "source": [
    "## Data Import"
   ]
  },
  {
   "cell_type": "code",
   "execution_count": 14,
   "metadata": {
    "scrolled": false
   },
   "outputs": [],
   "source": [
    "# Load data from CSV file\n",
    "df = pd.DataFrame()\n",
    "df = pd.read_csv('data.csv', dtype={'Radius (cm)': float, 'Weight (grams)': float})\n",
    "\n",
    "# Replace zero values with median value within class \n",
    "df = df.groupby(['Fruit (class)']) # sort by class\n",
    "proc_df = pd.DataFrame() # create a new dataframe to collect results\n",
    "for key, group in df: # go over groups\n",
    "    group = group.replace(0, group.median(axis=0)) # replace missing values with median\n",
    "    proc_df = pd.concat([proc_df, group]) # concatenate groups into new dataframe\n",
    "df = proc_df.sort_index() # overwrite original dataframe with results\n",
    "\n",
    "# Normalize\n",
    "radius = df['Radius (cm)']\n",
    "df['Radius (cm)'] = (radius-radius.min())/(radius.max()-radius.min())\n",
    "radius = df['Weight (grams)']\n",
    "df['Weight (grams)'] = (radius-radius.min())/(radius.max()-radius.min())"
   ]
  },
  {
   "cell_type": "code",
   "execution_count": 15,
   "metadata": {},
   "outputs": [
    {
     "name": "stdout",
     "output_type": "stream",
     "text": [
      "[0.06451612903225798, 0.6451612903225805, 0.48387096774193544, 0.16129032258064516, 0.0, 0.1290322580645161, 0.3225806451612903, 1.0, 0.1290322580645161, 0.3548387096774194, 0.5161290322580645, 0.09677419354838704, 0.8064516129032256, 0.7096774193548386, 0.6451612903225805, 0.2580645161290322, 0.7741935483870968, 0.06451612903225798, 0.5161290322580645, 0.6451612903225805, 0.09677419354838704, 0.0, 0.19354838709677422, 0.4193548387096773, 0.6774193548387097, 0.29032258064516125, 0.3548387096774194, 0.1290322580645161, 0.0, 0.3225806451612903, 0.7096774193548386, 0.9354838709677419]\n"
     ]
    }
   ],
   "source": [
    "# Radius values\n",
    "radius = list(df['Radius (cm)'])\n",
    "print(radius)"
   ]
  },
  {
   "cell_type": "code",
   "execution_count": 16,
   "metadata": {},
   "outputs": [
    {
     "name": "stdout",
     "output_type": "stream",
     "text": [
      "[0.15037593984962405, 0.2631578947368421, 1.0, 0.13533834586466165, 0.0, 0.3458646616541353, 0.21804511278195488, 0.7593984962406015, 0.22556390977443608, 0.2932330827067669, 0.45864661654135336, 0.21052631578947367, 0.8421052631578947, 0.6992481203007519, 0.15037593984962405, 0.09774436090225563, 0.5263157894736842, 0.15037593984962405, 0.45864661654135336, 0.7142857142857143, 0.20300751879699247, 0.18045112781954886, 0.24812030075187969, 0.3007518796992481, 0.6466165413533834, 0.43609022556390975, 0.18045112781954886, 0.18796992481203006, 0.0, 0.3383458646616541, 0.7293233082706767, 0.7669172932330827]\n"
     ]
    }
   ],
   "source": [
    "# Weight values\n",
    "weight = list(df['Weight (grams)'])\n",
    "print(weight)"
   ]
  },
  {
   "cell_type": "code",
   "execution_count": 17,
   "metadata": {},
   "outputs": [
    {
     "name": "stdout",
     "output_type": "stream",
     "text": [
      "['Lemon', 'Apple', 'Pear', 'Lemon', 'Lemon', 'Apple', 'Lemon', 'Pear', 'Apple', 'Apple', 'Apple', 'Lemon', 'Pear', 'Pear', 'Lemon', 'Lemon', 'Pear', 'Lemon', 'Apple', 'Pear', 'Lemon', 'Apple', 'Apple', 'Apple', 'Pear', 'Apple', 'Lemon', 'Lemon', 'Lemon', 'Apple', 'Pear', 'Pear']\n"
     ]
    }
   ],
   "source": [
    "# Classes\n",
    "classes = list(df['Fruit (class)'])\n",
    "print(classes)"
   ]
  },
  {
   "cell_type": "code",
   "execution_count": 18,
   "metadata": {},
   "outputs": [
    {
     "name": "stdout",
     "output_type": "stream",
     "text": [
      "[(0.06451612903225798, 0.15037593984962405, 'Lemon'), (0.6451612903225805, 0.2631578947368421, 'Apple'), (0.48387096774193544, 1.0, 'Pear'), (0.16129032258064516, 0.13533834586466165, 'Lemon'), (0.0, 0.0, 'Lemon'), (0.1290322580645161, 0.3458646616541353, 'Apple'), (0.3225806451612903, 0.21804511278195488, 'Lemon'), (1.0, 0.7593984962406015, 'Pear'), (0.1290322580645161, 0.22556390977443608, 'Apple'), (0.3548387096774194, 0.2932330827067669, 'Apple'), (0.5161290322580645, 0.45864661654135336, 'Apple'), (0.09677419354838704, 0.21052631578947367, 'Lemon'), (0.8064516129032256, 0.8421052631578947, 'Pear'), (0.7096774193548386, 0.6992481203007519, 'Pear'), (0.6451612903225805, 0.15037593984962405, 'Lemon'), (0.2580645161290322, 0.09774436090225563, 'Lemon'), (0.7741935483870968, 0.5263157894736842, 'Pear'), (0.06451612903225798, 0.15037593984962405, 'Lemon'), (0.5161290322580645, 0.45864661654135336, 'Apple'), (0.6451612903225805, 0.7142857142857143, 'Pear'), (0.09677419354838704, 0.20300751879699247, 'Lemon'), (0.0, 0.18045112781954886, 'Apple'), (0.19354838709677422, 0.24812030075187969, 'Apple'), (0.4193548387096773, 0.3007518796992481, 'Apple'), (0.6774193548387097, 0.6466165413533834, 'Pear'), (0.29032258064516125, 0.43609022556390975, 'Apple'), (0.3548387096774194, 0.18045112781954886, 'Lemon'), (0.1290322580645161, 0.18796992481203006, 'Lemon'), (0.0, 0.0, 'Lemon'), (0.3225806451612903, 0.3383458646616541, 'Apple'), (0.7096774193548386, 0.7293233082706767, 'Pear'), (0.9354838709677419, 0.7669172932330827, 'Pear')]\n"
     ]
    }
   ],
   "source": [
    "# Combine radius, weight, and class to tuples (we have to keep the class for later plotting)\n",
    "tuples = list(zip(radius, weight, classes))\n",
    "print(tuples)"
   ]
  },
  {
   "cell_type": "markdown",
   "metadata": {},
   "source": [
    "## Clustering"
   ]
  },
  {
   "cell_type": "code",
   "execution_count": 64,
   "metadata": {},
   "outputs": [
    {
     "name": "stdout",
     "output_type": "stream",
     "text": [
      "center [0.06451613 0.15037594]\n",
      "[array([0.06451613, 0.15037594])]\n",
      "center [0.06451613 0.15037594]\n",
      "[array([0.06451613, 0.15037594]), array([0.64516129, 0.26315789])]\n",
      "center [0.64516129 0.26315789]\n",
      "[array([0.06451613, 0.15037594]), array([0.64516129, 0.26315789])]\n",
      "center [0.06451613 0.15037594]\n",
      "center [0.06451613 0.15037594]\n",
      "center [0.06451613 0.15037594]\n",
      "center [0.06451613 0.15037594]\n",
      "center [0.06451613 0.15037594]\n",
      "[array([0.06451613, 0.15037594]), array([0.64516129, 0.26315789]), array([0.48387097, 1.        ])]\n",
      "center [0.64516129 0.26315789]\n",
      "[array([0.06451613, 0.15037594]), array([0.64516129, 0.26315789]), array([0.48387097, 1.        ])]\n",
      "center [0.48387097 1.        ]\n",
      "center [0.06451613 0.15037594]\n",
      "center [0.06451613 0.15037594]\n",
      "center [0.06451613 0.15037594]\n",
      "center [0.06451613 0.15037594]\n",
      "center [0.06451613 0.15037594]\n",
      "[array([0.06451613, 0.15037594]), array([0.64516129, 0.26315789]), array([0.48387097, 1.        ])]\n",
      "center [0.64516129 0.26315789]\n",
      "[array([0.06451613, 0.15037594]), array([0.64516129, 0.26315789]), array([0.48387097, 1.        ])]\n",
      "center [0.48387097 1.        ]\n",
      "center [0.06451613 0.15037594]\n",
      "[array([0.06451613, 0.15037594]), array([0.64516129, 0.26315789]), array([0.48387097, 1.        ])]\n",
      "center [0.64516129 0.26315789]\n",
      "center [0.06451613 0.15037594]\n",
      "[array([0.06451613, 0.15037594]), array([0.64516129, 0.26315789]), array([0.48387097, 1.        ])]\n",
      "center [0.64516129 0.26315789]\n",
      "center [0.06451613 0.15037594]\n",
      "center [0.06451613 0.15037594]\n",
      "[array([0.06451613, 0.15037594]), array([0.64516129, 0.26315789]), array([0.48387097, 1.        ])]\n",
      "center [0.64516129 0.26315789]\n",
      "center [0.06451613 0.15037594]\n",
      "center [0.06451613 0.15037594]\n",
      "center [0.06451613 0.15037594]\n",
      "[array([0.06451613, 0.15037594]), array([0.64516129, 0.26315789]), array([0.48387097, 1.        ])]\n",
      "center [0.64516129 0.26315789]\n",
      "center [0.06451613 0.15037594]\n",
      "center [0.06451613 0.15037594]\n",
      "center [0.06451613 0.15037594]\n",
      "center [0.06451613 0.15037594]\n",
      "center [0.06451613 0.15037594]\n",
      "[array([0.06451613, 0.15037594]), array([0.64516129, 0.26315789]), array([0.48387097, 1.        ])]\n",
      "center [0.64516129 0.26315789]\n",
      "center [0.06451613 0.15037594]\n",
      "center [0.06451613 0.15037594]\n",
      "center [0.06451613 0.15037594]\n",
      "center [0.06451613 0.15037594]\n",
      "center [0.06451613 0.15037594]\n",
      "center [0.06451613 0.15037594]\n",
      "[array([0.06451613, 0.15037594]), array([0.64516129, 0.26315789]), array([0.48387097, 1.        ])]\n",
      "center [0.64516129 0.26315789]\n",
      "center [0.06451613 0.15037594]\n",
      "[array([0.06451613, 0.15037594]), array([0.64516129, 0.26315789]), array([0.48387097, 1.        ])]\n",
      "center [0.64516129 0.26315789]\n",
      "[array([0.06451613, 0.15037594]), array([0.64516129, 0.26315789]), array([0.48387097, 1.        ])]\n",
      "center [0.48387097 1.        ]\n",
      "[[(0.06451612903225798, 0.15037593984962405, 'Lemon'), (0.16129032258064516, 0.13533834586466165, 'Lemon'), (0.0, 0.0, 'Lemon'), (0.1290322580645161, 0.3458646616541353, 'Apple'), (0.3225806451612903, 0.21804511278195488, 'Lemon'), (0.1290322580645161, 0.22556390977443608, 'Apple'), (0.3548387096774194, 0.2932330827067669, 'Apple'), (0.5161290322580645, 0.45864661654135336, 'Apple'), (0.09677419354838704, 0.21052631578947367, 'Lemon'), (0.2580645161290322, 0.09774436090225563, 'Lemon'), (0.06451612903225798, 0.15037593984962405, 'Lemon'), (0.5161290322580645, 0.45864661654135336, 'Apple'), (0.09677419354838704, 0.20300751879699247, 'Lemon'), (0.0, 0.18045112781954886, 'Apple'), (0.19354838709677422, 0.24812030075187969, 'Apple'), (0.4193548387096773, 0.3007518796992481, 'Apple'), (0.29032258064516125, 0.43609022556390975, 'Apple'), (0.3548387096774194, 0.18045112781954886, 'Lemon'), (0.1290322580645161, 0.18796992481203006, 'Lemon'), (0.0, 0.0, 'Lemon'), (0.3225806451612903, 0.3383458646616541, 'Apple')], [(0.6451612903225805, 0.2631578947368421, 'Apple'), (0.7096774193548386, 0.6992481203007519, 'Pear'), (0.6451612903225805, 0.15037593984962405, 'Lemon'), (0.7741935483870968, 0.5263157894736842, 'Pear'), (0.6451612903225805, 0.7142857142857143, 'Pear'), (0.6774193548387097, 0.6466165413533834, 'Pear'), (0.7096774193548386, 0.7293233082706767, 'Pear')], [(0.48387096774193544, 1.0, 'Pear'), (1.0, 0.7593984962406015, 'Pear'), (0.8064516129032256, 0.8421052631578947, 'Pear'), (0.9354838709677419, 0.7669172932330827, 'Pear')]]\n"
     ]
    }
   ],
   "source": [
    "# Squared Euclidean distance (use this as delta function)\n",
    "def distance(p1,p2):\n",
    "    dist = (p2[0]-p1[0])**2+(p2[1]-p1[1])**2\n",
    "    return dist\n",
    "\n",
    "# Takes points as list of tuples and a threshold.\n",
    "# Example call: do_cluster([(2,1,'Apple'),(6,3,'Lemon'),(1,1.5,'Apple'),(2,2,'Pear')], 7)\n",
    "def updateCentroid(cluster,objects,center):\n",
    "    centroid = list(center)\n",
    "    for i in range(len(cluster)):\n",
    "        centroid =np.dot((1/len(cluster[i])),list(center))+np.dot((len(cluster[i])-1)/len(cluster[i]),centroid)\n",
    "#     print(centroid)\n",
    "    return centroid\n",
    "    \n",
    "def do_cluster(tuples, threshold):\n",
    "    \n",
    "    clusters = [] \n",
    "    clustersCentroids = []\n",
    "    for objects in tuples:\n",
    "        objectIndex = 0\n",
    "        clusterIndex = 0\n",
    "        for cluster in clusters:\n",
    "            center = clustersCentroids[clusterIndex]\n",
    "#             print(\"center\",center)\n",
    "            if distance(np.array(objects[:2]),center) <= threshold:\n",
    "                cluster.append(objects)\n",
    "                clustersCentroids[clusterIndex] = updateCentroid(cluster,objects,center)\n",
    "                objectIndex = 1\n",
    "                break\n",
    "            clusterIndex += 1\n",
    "#             print(clustersCentroids)\n",
    "        if objectIndex == 0:\n",
    "            newCluster = [objects]\n",
    "            clusters.append(newCluster)\n",
    "            newCenter = np.array(objects[:2])\n",
    "            clustersCentroids.append(newCenter)\n",
    "    \n",
    "    return clusters \n",
    "\n",
    "\n",
    "# Call to cluster\n",
    "clusters = do_cluster(tuples, 0.33) # distance threshold, aka Delta, is set to 0.33\n",
    "print(clusters)"
   ]
  },
  {
   "cell_type": "markdown",
   "metadata": {},
   "source": [
    "## Plotting"
   ]
  },
  {
   "cell_type": "code",
   "execution_count": 65,
   "metadata": {
    "scrolled": true
   },
   "outputs": [
    {
     "data": {
      "image/png": "[encoded data removed]",
      "text/plain": [
       "<Figure size 432x288 with 1 Axes>"
      ]
     },
     "metadata": {
      "needs_background": "light"
     },
     "output_type": "display_data"
    }
   ],
   "source": [
    "colors = ['red', 'green', 'blue', 'yellow', 'purple', 'orange'] # provide some colors for the clusters\n",
    "marker = {'Lemon': '*', 'Apple': 'o', 'Pear': 'x'} # different marker for each class\n",
    "i = 0\n",
    "for c in clusters:\n",
    "    tpls = list(zip(*c))\n",
    "    x = tpls[0]\n",
    "    y = tpls[1]\n",
    "    cls = tpls[2]\n",
    "    c = colors[i%len(colors)]\n",
    "    m = [marker[cl] for cl in cls]\n",
    "    for _x, _y, _m in zip(x, y, m):\n",
    "        plt.scatter(_x, _y, c=c, marker=_m)\n",
    "    i += 1\n",
    "plt.xlabel(\"Radius\")\n",
    "plt.ylabel(\"Weight\")\n",
    "plt.show()"
   ]
  },
  {
   "cell_type": "code",
   "execution_count": null,
   "metadata": {},
   "outputs": [],
   "source": []
  }
 ],
 "metadata": {
  "kernelspec": {
   "display_name": "Python 3",
   "language": "python",
   "name": "python3"
  },
  "language_info": {
   "codemirror_mode": {
    "name": "ipython",
    "version": 3
   },
   "file_extension": ".py",
   "mimetype": "text/x-python",
   "name": "python",
   "nbconvert_exporter": "python",
   "pygments_lexer": "ipython3",
   "version": "3.8.3"
  }
 },
 "nbformat": 4,
 "nbformat_minor": 2
}
